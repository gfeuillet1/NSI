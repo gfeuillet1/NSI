{
 "cells": [
  {
   "cell_type": "markdown",
   "metadata": {},
   "source": [
    "# <div style=\"text-align:center;\"><span style=\"color:darkred\"><u>Exercices de musculation sur les listes et p-uplets en Python\n",
    "</u></span></div>"
   ]
  },
  {
   "cell_type": "markdown",
   "metadata": {},
   "source": [
    "Dans ce notebook vous devrez systématiquement répondre aux exercices en créant une fonction."
   ]
  },
  {
   "cell_type": "markdown",
   "metadata": {},
   "source": [
    "## <span style=\"color:blue\">1\\. Une première situation en exemple</span>\n"
   ]
  },
  {
   "cell_type": "markdown",
   "metadata": {},
   "source": [
    "Nous allons créer la fonction &laquo;__sortie__&raquo; :\n",
    "\n",
    "* <span style=\"color:blue\">Entrée</span> : une chaine de caractères correspondant au jour de la semaine.\n",
    "* <span style=\"color:blue\">Sortie</span> : une chaîne de caractères indiquant l'heure de sortie de cours ce jour-ci.\n",
    "\n",
    "Nous utilisons deux listes de chaînes de caractères : une listant les jours de la semaine et l'autre listant l'heure de sortie correspondante. \n",
    "\n",
    "Enfin, nous utilisons la méthode &laquo;index&raquo; de la classe &laquo;list&raquo; dont une rapide description peut-être obtenue avec la commande &laquo;help&raquo;"
   ]
  },
  {
   "cell_type": "code",
   "execution_count": null,
   "metadata": {},
   "outputs": [],
   "source": [
    "help(list.index)"
   ]
  },
  {
   "cell_type": "code",
   "execution_count": null,
   "metadata": {},
   "outputs": [],
   "source": [
    "def sortie(jour):\n",
    "    semaine=[\"lundi\",\"mardi\",\"mercredi\",\"jeudi\",\"vendredi\",\"samedi\"]\n",
    "    heures=[\"17h30\",\"16h30\",\"12h30\",\"17h30\",\"15h30\"]\n",
    "    heureSortie=semaine.index(jour)\n",
    "    return heures[heureSortie]"
   ]
  },
  {
   "cell_type": "markdown",
   "metadata": {},
   "source": [
    "On peut maintenant utiliser cette fonction :"
   ]
  },
  {
   "cell_type": "code",
   "execution_count": null,
   "metadata": {},
   "outputs": [],
   "source": [
    "sortie(\"jeudi\")"
   ]
  },
  {
   "cell_type": "markdown",
   "metadata": {},
   "source": [
    "<u>Remarques</u> :\n",
    " * lors de l'exécution de la commande précédente, il faut bien comprendre que le paramètre `jour` de la fonction `sortie` désigne la chaîne de caractères `\"jeudi\"`.\n",
    " * les variables `semaine`, `heures`, `heuresSortie` ne \" vivent \" que le temps d'exécution de la fonction `sortie`.\n",
    " * il existe un guide de style écrit par Guido van Rossum (l'auteur du langage Python) connu sous le nom de PEP8. Ce guide précise notamment qu'il est préférable d'utiliser le style \" snake case \" pour nommer les fonctions et les variables. Ainsi, plutôt que `heureSortie`(style \" camel case \") on a nommé la variable `heure_sortie`.\n",
    " "
   ]
  },
  {
   "cell_type": "markdown",
   "metadata": {},
   "source": [
    "#### <u>Exercice 1.1</u> \n",
    "\n",
    "Créer la fonction __nb_jours__ :\n",
    "\n",
    "* <span style=\"color:blue\">Entrée</span> : une chaîne de caractères correspondant à un mois de l'année.\n",
    "* <span style=\"color:blue\">Sortie</span> : un entier valant le nombre de jours de ce mois.\n",
    "\n",
    "\n",
    "Exemple d'utilisation :<br>\n",
    "~~~Python\n",
    "nb_jours(\"novembre\")\n",
    "30\n",
    "~~~\n"
   ]
  },
  {
   "cell_type": "code",
   "execution_count": 7,
   "metadata": {},
   "outputs": [],
   "source": [
    "def nb_jours(mois):\n",
    "    annee=[\"janvier\",\"fevrier\",\"mars\",\"avril\",\"mai\",\"juin\",\"juillet\",\"aout\",\"septembre\",\"octobre\",\"novembre\",\"decembre\"]\n",
    "    jours=[31,28,31,30,31,30,31,31,30,31,30,31]\n",
    "    return jours[annee.index(mois)]\n",
    "           "
   ]
  },
  {
   "cell_type": "code",
   "execution_count": 9,
   "metadata": {},
   "outputs": [
    {
     "data": {
      "text/plain": [
       "30"
      ]
     },
     "execution_count": 9,
     "metadata": {},
     "output_type": "execute_result"
    }
   ],
   "source": [
    "nb_jours(\"novembre\")      "
   ]
  },
  {
   "cell_type": "markdown",
   "metadata": {},
   "source": [
    "#### <u>Exercice 1.2</u> \n",
    "\n",
    "Créer la fonction __nb_jours_bis__ :\n",
    "\n",
    "* <span style=\"color:blue\">Entrée</span> : deux paramètres\n",
    " * une chaine de caractères correspondant à un mois de l'année,\n",
    " * un entier (1 ou 0) suivant qu'on considère une année bissextile ou non.\n",
    "* <span style=\"color:blue\">Sortie</span> : un entier valant le nombre de jours de ce mois.\n",
    "\n",
    "\n",
    "Exemple d'utilisation :<br>\n",
    "~~~Python\n",
    "nb_jours_bis(\"fevrier\",1)\n",
    "29\n",
    "~~~\n"
   ]
  },
  {
   "cell_type": "code",
   "execution_count": 12,
   "metadata": {},
   "outputs": [],
   "source": [
    "def nb_jours_bis(mois,k):\n",
    "    annee=[\"janvier\",\"fevrier\",\"mars\",\"avril\",\"mai\",\"juin\",\"juillet\",\"aout\",\"septembre\",\"octobre\",\"novembre\",\"decembre\"]\n",
    "    jours=[31,28,31,30,31,30,31,31,30,31,30,31]\n",
    "    if mois==\"fevrier\" and k==1 :\n",
    "        return jours[annee.index(mois)]+1\n",
    "    else :\n",
    "        return jours[annee.index(mois)]           "
   ]
  },
  {
   "cell_type": "code",
   "execution_count": 13,
   "metadata": {},
   "outputs": [
    {
     "data": {
      "text/plain": [
       "29"
      ]
     },
     "execution_count": 13,
     "metadata": {},
     "output_type": "execute_result"
    }
   ],
   "source": [
    "nb_jours_bis(\"fevrier\",1)      \n"
   ]
  },
  {
   "cell_type": "markdown",
   "metadata": {},
   "source": [
    "## <span style=\"color:blue\">2\\. Le meilleur <del>pâtissier</del> programmeur</span>\n"
   ]
  },
  {
   "cell_type": "markdown",
   "metadata": {},
   "source": [
    "#### <u>Exercice 2.1</u> \n",
    "\n",
    "Vous partez faire des courses pour réaliser une délicieuse recette de gâteau et voulez prendre l’argent dont vous avez besoin pour acheter les ingrédients. Heureusement vous savez à l’avance le prix au kg de chaque ingrédient et la\n",
    "quantité exacte dont vous avez besoin pour chaque ingrédient.\n",
    "\n",
    "Créer la fonction __cout_total__ :\n",
    "\n",
    "* <span style=\"color:blue\">Entrée</span> : deux listes de même longueur en paramètres\n",
    " * la première présente les quantités en kg de chaque ingrédient,\n",
    " * la deuxième présente les prix en euros au kg des ingrédients correspondants.\n",
    "* <span style=\"color:blue\">Sortie</span> : un décimal égal au coût total en euros de la recette.\n",
    "\n",
    "\n",
    "Exemple d'utilisation :\n",
    "~~~Python\n",
    "cout_total([1,0.200,0.100,0.100,0.200], [3.50,3,1,1.50,6])\n",
    "5.55\n",
    "~~~"
   ]
  },
  {
   "cell_type": "code",
   "execution_count": 14,
   "metadata": {},
   "outputs": [],
   "source": [
    "def cout_total(liste1,liste2):\n",
    "    cout = 0\n",
    "    for i in range(len(liste1)):\n",
    "        cout = cout + liste1[i]*liste2[i]\n",
    "    return cout"
   ]
  },
  {
   "cell_type": "code",
   "execution_count": 15,
   "metadata": {},
   "outputs": [
    {
     "data": {
      "text/plain": [
       "5.55"
      ]
     },
     "execution_count": 15,
     "metadata": {},
     "output_type": "execute_result"
    }
   ],
   "source": [
    "cout_total([1,0.200,0.100,0.100,0.200],[3.50,3,1,1.50,6])"
   ]
  },
  {
   "cell_type": "markdown",
   "metadata": {},
   "source": [
    "#### <u>Exercice 2.2</u> \n",
    "\n",
    "En chemin ver le marché, pour éviter de vous perdre, vous avez noté chacune des directions que vous avez prises aux cinq carrefours que vous avez traversés :\n",
    "\n",
    "* 1 : tout droit,\n",
    "* 2 : à gauche,\n",
    "* 3 : à droite.\n",
    "\n",
    "\n",
    "Créer la fonction __retour__ :\n",
    "\n",
    "* <span style=\"color:blue\">Entrée</span> : la liste des entiers indiquant les directions prises dans l'ordre de la traversée de chaque carrefour à l'aller.\n",
    "* <span style=\"color:blue\">Sortie</span> : la liste des entiers indiquant les directions qu'il faudra prendre dans l'ordre pour le retour en supposant que vous passerez par les mêmes carrefours.\n",
    "\n",
    "Exemple d'utilisation :\n",
    "~~~Python\n",
    "retour([1, 1, 2, 3, 3])\n",
    "[2, 2, 3, 1, 1]\n",
    "~~~"
   ]
  },
  {
   "cell_type": "code",
   "execution_count": 2,
   "metadata": {},
   "outputs": [],
   "source": [
    "def retour(listeAller):\n",
    "    nbCarrefours=len(listeAller)\n",
    "    listeRetour=[0]*nbCarrefours\n",
    "    for i in range(nbCarrefours):\n",
    "        listeRetour[nbCarrefours-1-i]=listeAller[i]\n",
    "    for i in range(nbCarrefours):\n",
    "        if listeRetour[i]==2 :\n",
    "            listeRetour[i]=3\n",
    "        elif listeRetour[i]==3:\n",
    "            listeRetour[i]=2\n",
    "    return listeRetour\n"
   ]
  },
  {
   "cell_type": "code",
   "execution_count": 16,
   "metadata": {},
   "outputs": [
    {
     "data": {
      "text/plain": [
       "[2, 2, 3, 1, 1]"
      ]
     },
     "execution_count": 16,
     "metadata": {},
     "output_type": "execute_result"
    }
   ],
   "source": [
    "retour([1, 1, 2, 3, 3])"
   ]
  },
  {
   "cell_type": "markdown",
   "metadata": {},
   "source": [
    "#### <u>Exercice 2.3</u> \n",
    "\n",
    "Créer la fonction f telle que :\n",
    "\n",
    "* f(1) = 1,\n",
    "* f(2) = 3,\n",
    "* f(3) = 2.\n",
    "\n",
    "pour simplifier de manière très efficace le code de la fonction `retour`."
   ]
  },
  {
   "cell_type": "code",
   "execution_count": 19,
   "metadata": {},
   "outputs": [],
   "source": [
    "def f(x):\n",
    "    if x==2 :\n",
    "        return 3\n",
    "    elif x==3 :\n",
    "        return 2\n",
    "    return x"
   ]
  },
  {
   "cell_type": "code",
   "execution_count": 20,
   "metadata": {},
   "outputs": [],
   "source": [
    "def retour(liste_aller):\n",
    "    nb_carrefours=len(liste_aller)\n",
    "    liste_retour=[0]*nb_carrefours\n",
    "    for i in range(nb_carrefours):\n",
    "        liste_retour[nb_carrefours-1-i]=f(liste_aller[i])\n",
    "    return liste_retour"
   ]
  },
  {
   "cell_type": "code",
   "execution_count": 22,
   "metadata": {},
   "outputs": [
    {
     "data": {
      "text/plain": [
       "[2, 2, 3, 1, 1]"
      ]
     },
     "execution_count": 22,
     "metadata": {},
     "output_type": "execute_result"
    }
   ],
   "source": [
    "retour([1, 1, 2, 3, 3])"
   ]
  },
  {
   "cell_type": "code",
   "execution_count": 23,
   "metadata": {},
   "outputs": [
    {
     "name": "stdout",
     "output_type": "stream",
     "text": [
      "[1, 3, 2]\n"
     ]
    }
   ],
   "source": [
    "def g(x):\n",
    "    return int(-3/2*x**2 + 13/2*x - 4)\n",
    "print(list(map(g, [1, 2, 3])))"
   ]
  },
  {
   "cell_type": "markdown",
   "metadata": {},
   "source": [
    "#### <u>Exercice 2.4</u> \n",
    "\n",
    "Comme vous êtes joueur, vous vous en remettez au hasard pour choisir entre les trois directions à chaque carrefour :\n",
    "\n",
    "* 1 : tout droit,\n",
    "* 2 : à gauche,\n",
    "* 3 : à droite.\n",
    "\n",
    "\n",
    "Créer la fonction __retour_alea__ :\n",
    "\n",
    "* <span style=\"color:blue\">Entrée</span> : le nombre de carrefours que vous avez traversés.\n",
    "* <span style=\"color:blue\">Sortie</span> : deux listes\n",
    " * la liste des entiers indiquant les directions prises au hasard à chaque carrefour l'aller,\n",
    " * la liste des entiers indiquants les directions au retour qu'il faudra prendre en supposant que vous passerez par les mêmes carrefours qu'à l'aller.\n",
    " \n",
    " Exemple d'utilisation :\n",
    " ~~~Python\n",
    "retour_alea(10)\n",
    "([2, 1, 2, 1, 2, 2, 1, 2, 1, 3], [2, 1, 3, 1, 3, 3, 1, 3, 1, 3])\n",
    "~~~"
   ]
  },
  {
   "cell_type": "code",
   "execution_count": 31,
   "metadata": {},
   "outputs": [],
   "source": [
    "#importation de la bibliothèque random\n",
    "import random"
   ]
  },
  {
   "cell_type": "code",
   "execution_count": 32,
   "metadata": {},
   "outputs": [
    {
     "name": "stdout",
     "output_type": "stream",
     "text": [
      "Help on method randint in module random:\n",
      "\n",
      "randint(a, b) method of random.Random instance\n",
      "    Return random integer in range [a, b], including both end points.\n",
      "\n"
     ]
    }
   ],
   "source": [
    "#aide sur la méthode randint de la bibliothèque random\n",
    "help(random.randint)"
   ]
  },
  {
   "cell_type": "code",
   "execution_count": 26,
   "metadata": {},
   "outputs": [],
   "source": [
    "def retour_alea(n):\n",
    "    liste_aller = [0]*n\n",
    "    for i in range(n):\n",
    "        liste_aller[i] = random.randint(1, 3)\n",
    "    return liste_aller,retour(liste_aller)\n"
   ]
  },
  {
   "cell_type": "code",
   "execution_count": 34,
   "metadata": {},
   "outputs": [
    {
     "data": {
      "text/plain": [
       "([1, 3, 1, 3, 3, 1, 2, 3, 1, 1], [1, 1, 2, 3, 1, 2, 2, 1, 2, 1])"
      ]
     },
     "execution_count": 34,
     "metadata": {},
     "output_type": "execute_result"
    }
   ],
   "source": [
    "retour_alea(10)"
   ]
  },
  {
   "cell_type": "markdown",
   "metadata": {},
   "source": [
    "#### <u>Exercice 2.5</u> \n",
    "\n",
    "De retour chez vous après une belle balade, vous décidez de faire le bilan de votre excursion.\n",
    "\n",
    "Créer la fonction __bilan_balade__ :\n",
    "\n",
    "* <span style=\"color:blue\">Entrée</span> : la liste des directions que vous avez prises à l'aller.\n",
    "* <span style=\"color:blue\">Sortie</span> : une liste à trois éléments indiquant le nombre de fois où vous avez pris chacune des directions (1,2 ou 3) en comptant l'aller et le retour. "
   ]
  },
  {
   "cell_type": "code",
   "execution_count": 38,
   "metadata": {},
   "outputs": [],
   "source": [
    "def bilanBalade(listeAller):\n",
    "    listeBilan=[0]*3\n",
    "    for i in range(len(listeAller)):\n",
    "        if listeAller[i]==1:\n",
    "            listeBilan[0]+=1\n",
    "    listeBilan[1]=len(listeAller)-listeBilan[0]\n",
    "    listeBilan[2]=listeBilan[1]\n",
    "    listeBilan[0]*=2\n",
    "    return listeBilan"
   ]
  },
  {
   "cell_type": "code",
   "execution_count": 37,
   "metadata": {},
   "outputs": [
    {
     "data": {
      "text/plain": [
       "[6, 3, 3]"
      ]
     },
     "execution_count": 37,
     "metadata": {},
     "output_type": "execute_result"
    }
   ],
   "source": [
    "bilanBalade([1, 1, 1, 3, 2, 2])"
   ]
  },
  {
   "cell_type": "markdown",
   "metadata": {},
   "source": [
    "#### <u>Exercice 2.6</u> \n",
    "\n",
    "Vous vous lancez dans la confection de votre gâteau avec une grande maîtrise. \n",
    "\n",
    "Ça y est, la pâte est prête. Vous la déposez dans un récipient gradué. Il faut maintenant la laisser se reposer trois heures...mais pas vous ! <span style='font-size:20px;'>&#128580;</span>\n",
    "\n",
    "Dans le livre de recettes il est écrit que si vous avez parfaitement suivi les indications, la pâte va tripler de volume au bout des trois heures.\n",
    "\n",
    "Pour vérifier que tout se passe parfaitement vous décidez d'observer la pâte un certain temps et de créer une liste qui indiquera le volume théoriquement obtenu toutes les cinq minutes. Ainsi, vous pourrez facilement vérifier que tout se déroule parfaitement.\n",
    "\n",
    "Créer la fonction __controle_volume__ :\n",
    "\n",
    "* <span style=\"color:blue\">Entrée</span> : un nombre entier  indiquant en minutes combien de temps vous allez observer la pâte.\n",
    "* <span style=\"color:blue\">Sortie</span> : une liste indiquant les valeurs entières théoriques du volume en cm<sup>3</sup> toutes les cinq minutes durant le temps d'observation. On supposera que le volume initial est de 1000 cm<sup>3</sup>.\n",
    "\n",
    "Exemple d'utilisation :\n",
    "~~~Python\n",
    "controleVolume(20)\n",
    "[1000, 1031, 1062, 1095, 1129]\n",
    "~~~\n",
    "\n",
    "Aide : on admet que le volume doit augmenter d'environ 3,1 &#37; toutes les cinq minutes (un autre défi pour les matheux...)."
   ]
  },
  {
   "cell_type": "code",
   "execution_count": 41,
   "metadata": {},
   "outputs": [],
   "source": [
    "def controle_volume(temps):\n",
    "    nb_observations = temps//5 + 1\n",
    "    liste_volumes = [0]*nb_observations\n",
    "    liste_volumes[0] = 1000\n",
    "    for i in range(nb_observations - 1):\n",
    "        liste_volumes[i+1] = liste_volumes[i]*1.031\n",
    "    return list(map(int,liste_volumes))\n"
   ]
  },
  {
   "cell_type": "code",
   "execution_count": 42,
   "metadata": {},
   "outputs": [
    {
     "data": {
      "text/plain": [
       "[1000, 1031, 1062, 1095, 1129]"
      ]
     },
     "execution_count": 42,
     "metadata": {},
     "output_type": "execute_result"
    }
   ],
   "source": [
    "controle_volume(20)"
   ]
  },
  {
   "cell_type": "markdown",
   "metadata": {},
   "source": [
    "<u>Remarques</u> :\n",
    " * Dans la commande précédente, il faut bien comprendre que Python a remplacé le paramètre `jour`de la fonction `sortie` par la chaîne de caractères `\"jeudi\"`.\n",
    " * Les variables `semaine`, `heures`, `heuresSortie` ne \" vivent \" que le temps d'exécution de la fonction `sortie`.\n",
    " * Il existe un guide de style écrit par Guido van Rossum (l'auteur du langage Python) connu sous le nom de PEP8. Ce guide précise notamment qu'il est préférable d'utiliser le style \" snake case \" pour nommer les fonctions et les variables. Ainsi, plutôt que `heureSortie`(style \" camel case \") on a nommé la variable `heure_sortie`.\n",
    " "
   ]
  },
  {
   "cell_type": "markdown",
   "metadata": {},
   "source": [
    "#### <u>Exercice 2.7</u> \n",
    "\n",
    "Tout s'est parfaitement déroulé, même la cuisson !\n",
    "Le résultat est tellement magnifique que vous prenez une photo pour envoyer à vos amis !"
   ]
  },
  {
   "cell_type": "code",
   "execution_count": 48,
   "metadata": {},
   "outputs": [
    {
     "data": {
      "text/html": [
       "<img  width=200 src=\"monBeauGateau.jpg\" />\n"
      ],
      "text/plain": [
       "<IPython.core.display.HTML object>"
      ]
     },
     "metadata": {},
     "output_type": "display_data"
    }
   ],
   "source": [
    "%%html\n",
    "<img  width=200 src=\"monBeauGateau.jpg\" />"
   ]
  },
  {
   "cell_type": "markdown",
   "metadata": {},
   "source": [
    "Finalement, avant de l'envoyer, vous décidez pour diverses bonnes raisons (moins lourd à <s>digérer</s> transférer) de transformer cette photo en niveaux de gris.\n",
    "\n",
    "Compléter la fonction __niveauGris__ définie ci-après :\n",
    "\n",
    "* <span style=\"color:blue\">Entrée</span> : la liste des tuples donnant les niveaux RGB de chaque pixel de la photo originale.\n",
    "* <span style=\"color:blue\">Sortie</span> : la liste des valeurs de la luminance L, entiers entre 0 et 255, correspondant aux niveaux de gris de chaque pixel.\n",
    "\n",
    "La recommandation 601 de l’ITU (Internationnal Communication Union) préconise la formule suivante pour la valeur L de gris associée à un pixel en RGB de valeurs (R,G,B) :\n",
    "L = 0,299 × R + 0,587 × G + 0,114 × B."
   ]
  },
  {
   "cell_type": "code",
   "execution_count": 1,
   "metadata": {},
   "outputs": [],
   "source": [
    "def niveauGris(listeRGB):\n",
    "    #àcompléter\n",
    "    #\n",
    "    nbPixels=len(listeRGB)\n",
    "    listeL=[0]*nbPixels\n",
    "    for pixel in range(nbPixels):\n",
    "        listeL[pixel]=int(listeRGB[pixel][0]*0.299+listeRGB[pixel][1]*0.587+listeRGB[pixel][2]*0.114)\n",
    "    return listeL"
   ]
  },
  {
   "cell_type": "markdown",
   "metadata": {},
   "source": [
    "Maintenant que vous avez complété la définition de la fonction &laquo;niveauGris&raquo;, on exécute la démarche étudiée lors du notebook précédent...\n",
    "\n",
    "Compléter la cellule ci-dessous et vérifier qu'en niveaux de gris, votre gâteau semble vraiment plus digeste <span style='font-size:20px;'>&#129314;</span> !"
   ]
  },
  {
   "cell_type": "code",
   "execution_count": 5,
   "metadata": {},
   "outputs": [],
   "source": [
    "#importation du module Image de la bibliothèque PIL\n",
    "from PIL import Image\n",
    "#création d'une image Python associée au fichier monBeauGateau.jpg\n",
    "gateauRGB=Image.open(\"monBeauGateau.jpg\")\n",
    "#création de la liste des pixels associée à l'image précédente\n",
    "ldataRGB=list(gateauRGB.getdata())\n",
    "#utilisation de la fonction définie précédemment qui renvoie une liste\n",
    "ldataL=niveauGris(ldataRGB)\n",
    "#création d'une image en niveaux de gris...avec que des pixels noirs par défaut\n",
    "gateauL=Image.new('L',(gateauRGB.size[0],gateauRGB.size[1]))\n",
    "#mise à jour l'image gateauL pour qu'elle corresponde aux valeurs définies dans la liste ldataL\n",
    "gateauL.putdata(ldataL)\n",
    "#enregistrement de l'image Python dans le fichier monBeauGateauNB.jpg\n",
    "gateauL.save(\"monBeauGateauNB.jpg\")"
   ]
  },
  {
   "cell_type": "code",
   "execution_count": 3,
   "metadata": {},
   "outputs": [
    {
     "data": {
      "text/html": [
       "<img src=monBeauGateauNB.jpg width=\"200\">"
      ],
      "text/plain": [
       "<IPython.core.display.HTML object>"
      ]
     },
     "metadata": {},
     "output_type": "display_data"
    }
   ],
   "source": [
    "%%html\n",
    "<img src=monBeauGateauNB.jpg width=\"200\">"
   ]
  }
 ],
 "metadata": {
  "kernelspec": {
   "display_name": "Python 3",
   "language": "python",
   "name": "python3"
  },
  "language_info": {
   "codemirror_mode": {
    "name": "ipython",
    "version": 3
   },
   "file_extension": ".py",
   "mimetype": "text/x-python",
   "name": "python",
   "nbconvert_exporter": "python",
   "pygments_lexer": "ipython3",
   "version": "3.7.4"
  }
 },
 "nbformat": 4,
 "nbformat_minor": 2
}
