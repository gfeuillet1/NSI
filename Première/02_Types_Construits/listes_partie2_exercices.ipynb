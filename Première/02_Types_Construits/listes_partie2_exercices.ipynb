{
 "cells": [
  {
   "cell_type": "markdown",
   "metadata": {},
   "source": [
    "# <div style=\"text-align:center;\"><span style=\"color:darkred\"><u>Exercices de musculation sur les listes en Python\n",
    "</u></span></div>"
   ]
  },
  {
   "cell_type": "markdown",
   "metadata": {},
   "source": [
    "Dans ce notebook vous devrez systématiquement répondre aux exercices en créant une fonction.\n",
    "\n",
    "On désigne dans toute la suite :\n",
    " * \" Entrée \" : l'ensemble des paramètres de la fonction,\n",
    " * \" Sortie \" : ce que renvoie la fonction à la fin de son exécution."
   ]
  },
  {
   "cell_type": "markdown",
   "metadata": {},
   "source": [
    "## <span style=\"color:blue\">1\\. Une première situation en exemple</span>\n"
   ]
  },
  {
   "cell_type": "markdown",
   "metadata": {},
   "source": [
    "Nous allons créer la fonction &laquo;__sortie__&raquo; :\n",
    "\n",
    "* <span style=\"color:blue\">Entrée</span> : une chaine de caractères correspondant au jour de la semaine.\n",
    "* <span style=\"color:blue\">Sortie</span> : une chaîne de caractères indiquant l'heure de sortie de cours ce jour-ci.\n",
    "\n",
    "Nous utilisons deux listes de chaînes de caractères : une listant les jours de la semaine et l'autre listant l'heure de sortie correspondante. \n",
    "\n",
    "Enfin, nous utilisons la méthode &laquo;index&raquo; de la classe &laquo;list&raquo; dont une rapide description peut-être obtenue avec la commande &laquo;help&raquo;"
   ]
  },
  {
   "cell_type": "code",
   "execution_count": null,
   "metadata": {},
   "outputs": [],
   "source": [
    "help(list.index)"
   ]
  },
  {
   "cell_type": "code",
   "execution_count": null,
   "metadata": {},
   "outputs": [],
   "source": [
    "def sortie(jour):\n",
    "    \"\"\"\n",
    "    sortie(jour: str) -> str\n",
    "    renvoie l'heure de sortie.\n",
    "    \"\"\"\n",
    "    semaine = [\"lundi\", \"mardi\", \"mercredi\", \"jeudi\", \"vendredi\"]\n",
    "    heures = [\"17h30\", \"16h30\", \"12h30\", \"17h30\", \"15h30\"]\n",
    "    heure_sortie = semaine.index(jour)\n",
    "    return heures[heure_sortie]"
   ]
  },
  {
   "cell_type": "markdown",
   "metadata": {},
   "source": [
    "On peut maintenant utiliser cette fonction :"
   ]
  },
  {
   "cell_type": "code",
   "execution_count": null,
   "metadata": {},
   "outputs": [],
   "source": [
    "sortie(\"jeudi\")"
   ]
  },
  {
   "cell_type": "markdown",
   "metadata": {},
   "source": [
    "<u>Remarques</u> :\n",
    " * lors de l'exécution de la commande précédente, il faut bien comprendre que le paramètre `jour` de la fonction `sortie` désigne la chaîne de caractères `\"jeudi\"`,\n",
    " * les variables `semaine`, `heures`, `heuresSortie` ne \" vivent \" que le temps d'exécution de la fonction `sortie`,\n",
    " * il existe un guide de style écrit par Guido van Rossum (l'auteur du langage Python) connu sous le nom de PEP8. Ce guide précise notamment qu'il est préférable d'utiliser le style \" snake case \" pour nommer les fonctions et les variables. Ainsi, plutôt que `heureSortie`(style \" camel case \") on a nommé la variable `heure_sortie`,\n",
    " * la docstring de la fonction `sortie` est affichée avec la commande `help(sortie)`.\n",
    " "
   ]
  },
  {
   "cell_type": "code",
   "execution_count": null,
   "metadata": {},
   "outputs": [],
   "source": [
    "help(sortie)"
   ]
  },
  {
   "cell_type": "markdown",
   "metadata": {},
   "source": [
    "#### <u>Exercice 1.1</u> \n",
    "\n",
    "Créer la fonction __nb_jours__ :\n",
    "\n",
    "* <span style=\"color:blue\">Entrée</span> : une chaîne de caractères correspondant à un mois de l'année.\n",
    "* <span style=\"color:blue\">Sortie</span> : un entier valant le nombre de jours de ce mois.\n",
    "\n",
    "Exemple d'utilisation :\n",
    "\n",
    "~~~Python\n",
    "nb_jours(\"novembre\")\n",
    "30\n",
    "~~~"
   ]
  },
  {
   "cell_type": "markdown",
   "metadata": {},
   "source": [
    "#### <u>Exercice 1.2</u> \n",
    "\n",
    "Créer la fonction __nb_jours_bis__ :\n",
    "\n",
    "* <span style=\"color:blue\">Entrée</span> : deux paramètres\n",
    " * une chaîne de caractères correspondant à un mois de l'année,\n",
    " * un entier (1 ou 0) suivant qu'on considère une année bissextile ou non.\n",
    "* <span style=\"color:blue\">Sortie</span> : un entier valant le nombre de jours de ce mois.\n",
    "\n",
    "Exemple d'utilisation :<br>\n",
    "~~~Python\n",
    "nb_jours_bis(\"fevrier\", 1)\n",
    "29\n",
    "~~~\n"
   ]
  },
  {
   "cell_type": "markdown",
   "metadata": {},
   "source": [
    "## <span style=\"color:blue\">2\\. Le meilleur <del>pâtissier</del> programmeur</span>\n"
   ]
  },
  {
   "cell_type": "markdown",
   "metadata": {},
   "source": [
    "#### <u>Exercice 2.1</u> \n",
    "\n",
    "Vous partez faire des courses pour réaliser une délicieuse recette de gâteau et voulez prendre l’argent dont vous avez besoin pour acheter les ingrédients. Heureusement vous savez à l’avance le prix au kg de chaque ingrédient et la\n",
    "quantité exacte dont vous avez besoin pour chaque ingrédient.\n",
    "\n",
    "Créer la fonction __cout_total__ :\n",
    "\n",
    "* <span style=\"color:blue\">Entrée</span> : deux listes de même longueur en paramètres\n",
    " * la première présente les quantités en kg de chaque ingrédient,\n",
    " * la deuxième présente les prix en euros au kg des ingrédients correspondants.\n",
    "* <span style=\"color:blue\">Sortie</span> : un décimal égal au coût total en euros de la recette.\n",
    "\n",
    "Exemple d'utilisation :\n",
    "~~~Python\n",
    "cout_total([1, 0.200, 0.100, 0.100, 0.200], [3.50, 3, 1, 1.50, 6])\n",
    "5.55\n",
    "~~~"
   ]
  },
  {
   "cell_type": "markdown",
   "metadata": {},
   "source": [
    "#### <u>Exercice 2.2</u> \n",
    "\n",
    "En chemin vers le marché, pour éviter de vous perdre, vous avez noté chacune des directions que vous avez prises aux cinq carrefours que vous avez traversés :\n",
    "\n",
    "* 1 : tout droit,\n",
    "* 2 : à gauche,\n",
    "* 3 : à droite.\n",
    "\n",
    "\n",
    "Créer la fonction __retour__ :\n",
    "\n",
    "* <span style=\"color:blue\">Entrée</span> : la liste des entiers indiquant les directions prises dans l'ordre de la traversée de chaque carrefour à l'aller.\n",
    "* <span style=\"color:blue\">Sortie</span> : la liste des entiers indiquant les directions qu'il faudra prendre dans l'ordre pour le retour en supposant que vous passerez par les mêmes carrefours.\n",
    "\n",
    "Exemple d'utilisation :\n",
    "~~~Python\n",
    "retour([1, 1, 2, 3, 3])\n",
    "[2, 2, 3, 1, 1]\n",
    "~~~"
   ]
  },
  {
   "cell_type": "markdown",
   "metadata": {},
   "source": [
    "#### <u>Exercice 2.3</u> \n",
    "\n",
    "Créer la fonction f telle que :\n",
    "\n",
    "* f(1) = 1,\n",
    "* f(2) = 3,\n",
    "* f(3) = 2.\n",
    "\n",
    "pour simplifier de manière très efficace le code de la fonction `retour`."
   ]
  },
  {
   "cell_type": "markdown",
   "metadata": {},
   "source": [
    "####  <u>Complément facultatif</u>  :  pour les matheux !\n",
    "\n",
    "Déterminer la fonction g polynôme du second degré qui réponde aux contraintes de l'exercice 2.3. et l'utiliser dans la fonction `retour`.\n"
   ]
  },
  {
   "cell_type": "markdown",
   "metadata": {},
   "source": [
    "#### <u>Exercice 2.4</u> \n",
    "\n",
    "Comme vous êtes joueur, vous vous en remettez au hasard pour choisir entre les trois directions à chaque carrefour :\n",
    "\n",
    "* 1 : tout droit,\n",
    "* 2 : à gauche,\n",
    "* 3 : à droite.\n",
    "\n",
    "\n",
    "Créer la fonction __retour_alea__ :\n",
    "\n",
    "* <span style=\"color:blue\">Entrée</span> : le nombre de carrefours que vous avez traversés.\n",
    "* <span style=\"color:blue\">Sortie</span> : deux listes\n",
    " * la liste des entiers indiquant les directions prises au hasard à chaque carrefour l'aller,\n",
    " * la liste des entiers indiquants les directions au retour qu'il faudra prendre en supposant que vous passerez par les mêmes carrefours qu'à l'aller.\n",
    " \n",
    " Exemple d'utilisation :\n",
    " ~~~Python\n",
    "retour_alea(10)\n",
    "([2, 1, 2, 1, 2, 2, 1, 2, 1, 3], [2, 1, 3, 1, 3, 3, 1, 3, 1, 3])\n",
    "~~~"
   ]
  },
  {
   "cell_type": "code",
   "execution_count": null,
   "metadata": {},
   "outputs": [],
   "source": [
    "#importation de la bibliothèque random\n",
    "import random"
   ]
  },
  {
   "cell_type": "code",
   "execution_count": null,
   "metadata": {},
   "outputs": [],
   "source": [
    "#aide sur la méthode randint de la bibliothèque random\n",
    "help(random.randint)"
   ]
  },
  {
   "cell_type": "markdown",
   "metadata": {},
   "source": [
    "#### <u>Exercice 2.5</u> \n",
    "\n",
    "De retour chez vous après une belle balade, vous décidez de faire le bilan de votre excursion.\n",
    "\n",
    "Créer la fonction __bilan_balade__ :\n",
    "\n",
    "* <span style=\"color:blue\">Entrée</span> : la liste des directions que vous avez prises à l'aller.\n",
    "* <span style=\"color:blue\">Sortie</span> : une liste à trois éléments indiquant le nombre de fois où vous avez pris chacune des directions (1,2 ou 3) en comptant l'aller et le retour. \n",
    "\n",
    "Exemple d'utilisation :\n",
    "~~~Python\n",
    "bilanBalade([1, 1, 1, 3, 2, 2])\n",
    "[6, 3, 3]\n",
    "~~~"
   ]
  },
  {
   "cell_type": "markdown",
   "metadata": {},
   "source": [
    "#### <u>Exercice 2.6</u> \n",
    "\n",
    "Vous vous lancez dans la confection de votre gâteau avec une grande maîtrise. \n",
    "\n",
    "Ça y est, la pâte est prête. Vous la déposez dans un récipient gradué. Il faut maintenant la laisser se reposer trois heures...mais pas vous ! <span style='font-size:20px;'>&#128580;</span>\n",
    "\n",
    "Dans le livre de recettes il est écrit que si vous avez parfaitement suivi les indications, la pâte va tripler de volume au bout des trois heures.\n",
    "\n",
    "Pour vérifier que tout se passe parfaitement vous décidez d'observer la pâte un certain temps et de créer une liste qui indiquera le volume théoriquement obtenu toutes les cinq minutes. Ainsi, vous pourrez facilement vérifier que tout se déroule parfaitement.\n",
    "\n",
    "Créer la fonction __controle_volume__ :\n",
    "\n",
    "* <span style=\"color:blue\">Entrée</span> : un nombre entier  indiquant en minutes combien de temps vous allez observer la pâte.\n",
    "* <span style=\"color:blue\">Sortie</span> : une liste indiquant les valeurs entières théoriques du volume en cm<sup>3</sup> toutes les cinq minutes durant le temps d'observation. On supposera que le volume initial est de 1000 cm<sup>3</sup>.\n",
    "\n",
    "Exemple d'utilisation :\n",
    "~~~Python\n",
    "controleVolume(20)\n",
    "[1000, 1031, 1062, 1095, 1129]\n",
    "~~~\n",
    "\n",
    "Aide : on admet que le volume doit augmenter d'environ 3,1 &#37; toutes les cinq minutes (un autre défi pour les matheux...)."
   ]
  },
  {
   "cell_type": "code",
   "execution_count": null,
   "metadata": {},
   "outputs": [],
   "source": []
  },
  {
   "cell_type": "markdown",
   "metadata": {},
   "source": [
    "#### <u>Une récompense bien méritée</u> \n",
    "\n",
    "Tout s'est parfaitement déroulé, même la cuisson !\n",
    "Le résultat est tellement magnifique que vous prenez une photo pour envoyer à vos amis !\n",
    "\n",
    "Pour découvrir la photo cette réalisation unique il faut décommenter le code html inclus dans cette cellule !\n",
    "\n",
    "<!--<img src=monBeauGateau.jpg width=200>-->"
   ]
  }
 ],
 "metadata": {
  "kernelspec": {
   "display_name": "Python 3",
   "language": "python",
   "name": "python3"
  },
  "language_info": {
   "codemirror_mode": {
    "name": "ipython",
    "version": 3
   },
   "file_extension": ".py",
   "mimetype": "text/x-python",
   "name": "python",
   "nbconvert_exporter": "python",
   "pygments_lexer": "ipython3",
   "version": "3.6.9"
  }
 },
 "nbformat": 4,
 "nbformat_minor": 2
}
