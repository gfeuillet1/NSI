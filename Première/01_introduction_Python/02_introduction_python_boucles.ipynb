{
 "cells": [
  {
   "cell_type": "markdown",
   "metadata": {},
   "source": [
    "# **Rappel des notions de base en Python (suite)**"
   ]
  },
  {
   "cell_type": "markdown",
   "metadata": {},
   "source": [
    "## <span style=\"color:blue\">Structures de boucles</span>"
   ]
  },
  {
   "cell_type": "markdown",
   "metadata": {},
   "source": [
    "Lorsqu'on souhaite répéter une instruction (ou plusieurs) on utilise une boucle.\n",
    "\n",
    "Le nombre de répétitions peut être connu à l'avance (boucle &#171; Pour &#187;) ou dépendre du résultat d'un test (boucle &#171; Tant Que &#187;)."
   ]
  },
  {
   "cell_type": "markdown",
   "metadata": {},
   "source": [
    "### <span style=\"color:blue\">Boucle &#171; Pour &#187;</span>"
   ]
  },
  {
   "cell_type": "markdown",
   "metadata": {},
   "source": [
    "Répétition qui n'utilise pas le compteur de boucle :"
   ]
  },
  {
   "cell_type": "code",
   "execution_count": null,
   "metadata": {},
   "outputs": [],
   "source": [
    "for _ in range(10):\n",
    "    print(\"Moi je connais une chanson qui énerve les gens !\")"
   ]
  },
  {
   "cell_type": "markdown",
   "metadata": {},
   "source": [
    "Répétition qui utilise le compteur de boucle :"
   ]
  },
  {
   "cell_type": "code",
   "execution_count": null,
   "metadata": {},
   "outputs": [],
   "source": [
    "for nbre in range(10) :\n",
    "    print(f\"Le carré de {nbre} est {nbre**2}\")"
   ]
  },
  {
   "cell_type": "markdown",
   "metadata": {},
   "source": [
    "**Remarques** :\n",
    " * la fonction `range()` renvoie une séquence de nombres qui débute à 0 (par défaut), augmente de 1 en 1 (par défaut) et finit avec l'entier juste inférieur à celui précisé en paramètre. Il est possible de modifier ce comportement par défaut (cf la commande `help(range)`),\n",
    " * il est possible de boucler sur les caractères d'une chaîne de caractères (qui est en Python également un objet itérable) comme le montre l'exemple qui suit.\n",
    " * une chaîne de caractères préfixée par la lettre f est une `f-string'. Cette nouveauté apparue avec la version 3.6 de Python facilite le formatage d'une chaîne de caractères comme le montre l'exemple précédent."
   ]
  },
  {
   "cell_type": "code",
   "execution_count": null,
   "metadata": {},
   "outputs": [],
   "source": [
    "chaine=input(\"Entrer une phrase : \\n\")\n",
    "for car in chaine :\n",
    "    print(car)"
   ]
  },
  {
   "cell_type": "markdown",
   "metadata": {},
   "source": [
    "#### **Exercices** :\n"
   ]
  },
  {
   "cell_type": "markdown",
   "metadata": {},
   "source": [
    "1. Écrire dans une même cellule les lignes de commandes permettant de réaliser le cahier des charges suivant :\n",
    "\n",
    "* *Entrée clavier* : un nombre entier\n",
    " \n",
    "* *Sortie écran* : la tableau de multiplication jusqu'à 10 de cet entier.\n",
    " \n",
    "Exemple : si l'utilisateur saisit le nombre 5, la sortie est l'affichage :\n",
    "\n",
    "0 x 5 = 0<br>\n",
    "1 x 5 = 5<br>\n",
    "2 x 5 = 10<br>\n",
    "etc.<br>"
   ]
  },
  {
   "cell_type": "markdown",
   "metadata": {},
   "source": [
    "2. Écrire dans une même cellule les lignes de commandes permettant de réaliser le cahier des charges suivant :\n",
    "\n",
    "* *Entrée clavier* : un nombre entier naturel\n",
    " \n",
    "* *Sortie écran* : la somme des entiers naturels inférieurs à cet entier.\n",
    " \n",
    "Exemple : si l'utilisateur saisit le nombre 5, la sortie est l'affichage 10 car 0+1+2+3+4=10. "
   ]
  },
  {
   "cell_type": "markdown",
   "metadata": {},
   "source": [
    "3. Écrire dans une même cellule les lignes de commandes permettant de réaliser le cahier des charges suivant :\n",
    "\n",
    "* *Entrée clavier* : une chaine de caractères\n",
    " \n",
    "* *Sortie écran* : le nombre de caractères composant la chaine saisie.\n",
    " \n",
    "Exemple : si l'utilisateur saisit \"My name is Bond !\", la sortie est l'affichage 17. "
   ]
  },
  {
   "cell_type": "markdown",
   "metadata": {},
   "source": [
    "### <span style=\"color:blue\">Boucle &#171; While &#187;</span>"
   ]
  },
  {
   "cell_type": "markdown",
   "metadata": {},
   "source": [
    "Voici un exemple d'utilisation d'une boucle `while`."
   ]
  },
  {
   "cell_type": "code",
   "execution_count": null,
   "metadata": {},
   "outputs": [],
   "source": [
    "accord=input(\"D'accord ?\")\n",
    "while accord != 'oui':\n",
    "    accord=input(\"D'accord ?\")\n",
    "print(\"J'en étais sûr !\")"
   ]
  },
  {
   "cell_type": "markdown",
   "metadata": {},
   "source": [
    "#### **Exercices** :"
   ]
  },
  {
   "cell_type": "markdown",
   "metadata": {},
   "source": [
    "1. Analyser le code qui suit et en prévoir la sortie (vérifier en exécutant la cellule).<br>\n",
    "Réaliser la même sortie à l'aide d'une boucle `While`."
   ]
  },
  {
   "cell_type": "code",
   "execution_count": null,
   "metadata": {},
   "outputs": [],
   "source": [
    "for i in range(21):\n",
    "    if i%5 == 0:\n",
    "        print(\"*\"*i)\n",
    "    else:\n",
    "        print(\"*\")"
   ]
  },
  {
   "cell_type": "markdown",
   "metadata": {},
   "source": [
    "2. On reprend la recherche du nombre secret.\n",
    "\n",
    " Écrire dans une même cellule les lignes de commandes permettant de réaliser le cahier des charges suivant :\n",
    "\n",
    "* *Entrée clavier* : un nombre,\n",
    "\n",
    "* *Sortie écran* : tant que le nombre secret n'est pas trouvé, une invitation à saisir un nouveau nombre. Une fois le nombre secret trouvé, une information indiquant le nombre de coups d'essais effectués.\n"
   ]
  },
  {
   "cell_type": "markdown",
   "metadata": {},
   "source": [
    "3.  Attention aux surprises !\n",
    "\n",
    " Analyser le code de la cellule suivante et avant de l'exécuter, deviner combien de fois va être affichée la chaîne de caractère \"on continue...\".\n"
   ]
  },
  {
   "cell_type": "code",
   "execution_count": null,
   "metadata": {},
   "outputs": [],
   "source": [
    "a=0\n",
    "while a != 1 :\n",
    "    a = a + 0.1\n",
    "    print(\"on continue...\")\n",
    "print(\"Terminé ! :-)\")    "
   ]
  },
  {
   "cell_type": "markdown",
   "metadata": {},
   "source": [
    "Nous verrons dans peu de temps la cause du problème.\n",
    "\n",
    "En attendant, quelle(s) modification(s) peut-on proposer pour éviter ce comportement ?"
   ]
  },
  {
   "cell_type": "code",
   "execution_count": null,
   "metadata": {},
   "outputs": [],
   "source": []
  }
 ],
 "metadata": {
  "kernelspec": {
   "display_name": "Python 3",
   "language": "python",
   "name": "python3"
  },
  "language_info": {
   "codemirror_mode": {
    "name": "ipython",
    "version": 3
   },
   "file_extension": ".py",
   "mimetype": "text/x-python",
   "name": "python",
   "nbconvert_exporter": "python",
   "pygments_lexer": "ipython3",
   "version": "3.7.4"
  }
 },
 "nbformat": 4,
 "nbformat_minor": 4
}
