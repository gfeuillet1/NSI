{
 "cells": [
  {
   "cell_type": "markdown",
   "metadata": {},
   "source": [
    "# <div style=\"text-align:center;\"><span style=\"color:darkred\"><u>Listes (tableaux) en Python</u></span></div>"
   ]
  },
  {
   "cell_type": "markdown",
   "metadata": {},
   "source": [
    "## <span style=\"color:blue\">1\\. Introduction"
   ]
  },
  {
   "cell_type": "markdown",
   "metadata": {},
   "source": [
    "En python, les tableaux sont assimilés à des listes qui sont des objets de la classe &laquo;list&raquo;. \n",
    "\n",
    "Voici quelques caractéristiques des listes :\n",
    "<ul><li>une liste est délimitée par des crochets,</li>\n",
    "    <li>les éléments d'une liste sont séparés par des virgules,</li>\n",
    "    <li>une liste est un ensemble ordonné d'éléments numérotés à partir de 0,</li>\n",
    "    <li>une liste peut contenir des entiers, des caractères, des listes, des tuples (n-uplets) etc,</li>\n",
    "    <li>un même élément peut apparaître plusieurs fois.</li>\n",
    "\n",
    "</ul>\n",
    "Les listes permettent de stocker une grande quantité de données et d'avoir accès à chacune d'elle par son indice (numéro)."
   ]
  },
  {
   "cell_type": "markdown",
   "metadata": {},
   "source": [
    "## <span style=\"color:blue\">2\\. Construction de listes</span>\n",
    "### <span style=\"color:blue\">1\\. &laquo;À la main&raquo;</span>"
   ]
  },
  {
   "cell_type": "code",
   "execution_count": 2,
   "metadata": {},
   "outputs": [],
   "source": [
    "# Une liste vide :\n",
    "liste1=[]\n",
    "\n",
    "# Une liste contenant un seul élément :\n",
    "liste2=[22]\n",
    "\n",
    "# Une liste de 3 éléments :\n",
    "liste3=[1,2,3]\n",
    "\n",
    "# Une liste de listes :\n",
    "liste4=[[0,1,2,3],[4,5,6,7],[8,9,10,11],[12,13,14,15]]"
   ]
  },
  {
   "cell_type": "code",
   "execution_count": 3,
   "metadata": {},
   "outputs": [
    {
     "data": {
      "text/plain": [
       "list"
      ]
     },
     "execution_count": 3,
     "metadata": {},
     "output_type": "execute_result"
    }
   ],
   "source": [
    "type(liste1)"
   ]
  },
  {
   "cell_type": "code",
   "execution_count": 4,
   "metadata": {},
   "outputs": [
    {
     "data": {
      "text/plain": [
       "3"
      ]
     },
     "execution_count": 4,
     "metadata": {},
     "output_type": "execute_result"
    }
   ],
   "source": [
    "len(liste3)"
   ]
  },
  {
   "cell_type": "markdown",
   "metadata": {},
   "source": [
    "Une erreur classique de commande de lecture dans une liste...qu'il faut corriger :"
   ]
  },
  {
   "cell_type": "code",
   "execution_count": 7,
   "metadata": {},
   "outputs": [
    {
     "data": {
      "text/plain": [
       "3"
      ]
     },
     "execution_count": 7,
     "metadata": {},
     "output_type": "execute_result"
    }
   ],
   "source": [
    "#liste3[len(liste3)]\n",
    "liste3[len(liste3)-1]"
   ]
  },
  {
   "cell_type": "code",
   "execution_count": 9,
   "metadata": {},
   "outputs": [
    {
     "data": {
      "text/plain": [
       "3"
      ]
     },
     "execution_count": 9,
     "metadata": {},
     "output_type": "execute_result"
    }
   ],
   "source": [
    "liste3[-1]"
   ]
  },
  {
   "cell_type": "code",
   "execution_count": 11,
   "metadata": {},
   "outputs": [
    {
     "data": {
      "text/plain": [
       "4"
      ]
     },
     "execution_count": 11,
     "metadata": {},
     "output_type": "execute_result"
    }
   ],
   "source": [
    "len(liste4)"
   ]
  },
  {
   "cell_type": "code",
   "execution_count": 12,
   "metadata": {},
   "outputs": [
    {
     "data": {
      "text/plain": [
       "[12, 13, 14, 15]"
      ]
     },
     "execution_count": 12,
     "metadata": {},
     "output_type": "execute_result"
    }
   ],
   "source": [
    "liste4[-1]"
   ]
  },
  {
   "cell_type": "markdown",
   "metadata": {},
   "source": [
    "Essayons de créer un quatrième élément à liste3 avec une affectation :"
   ]
  },
  {
   "cell_type": "code",
   "execution_count": 18,
   "metadata": {},
   "outputs": [
    {
     "data": {
      "text/plain": [
       "[1, 2, 3, 12]"
      ]
     },
     "execution_count": 18,
     "metadata": {},
     "output_type": "execute_result"
    }
   ],
   "source": [
    "#liste3[3]=12\n",
    "liste3_1=[-1]*(len(liste3)+1)\n",
    "for i in range(len(liste3_1)-1):\n",
    "    liste3_1[i] = liste3[i]\n",
    "liste3_1[3] = 12\n",
    "liste3_1"
   ]
  },
  {
   "cell_type": "markdown",
   "metadata": {},
   "source": [
    "Une liste de listes (si celles-ci sont toutes de la même longueur) est comparable à un tableau à deux dimensions."
   ]
  },
  {
   "cell_type": "markdown",
   "metadata": {},
   "source": [
    "<span style=\"color:red\">Attention ! Il est impossible d'ajouter un élément d'une\n",
    "liste par affectation de cette manière.</span>"
   ]
  },
  {
   "cell_type": "code",
   "execution_count": null,
   "metadata": {},
   "outputs": [],
   "source": [
    "liste4[3][3]"
   ]
  },
  {
   "cell_type": "markdown",
   "metadata": {},
   "source": [
    "### <span style=\"color:blue\">2\\. De manière plus automatique</span>"
   ]
  },
  {
   "cell_type": "markdown",
   "metadata": {},
   "source": [
    "#### <span style=\"color:blue\">2.1 Grâce à la souplesse de Python...</span>"
   ]
  },
  {
   "cell_type": "code",
   "execution_count": 5,
   "metadata": {},
   "outputs": [
    {
     "data": {
      "text/plain": [
       "[0, 0, 0, 0, 0, 0, 0, 0, 0, 0]"
      ]
     },
     "execution_count": 5,
     "metadata": {},
     "output_type": "execute_result"
    }
   ],
   "source": [
    "liste5=[0]*10\n",
    "liste5"
   ]
  },
  {
   "cell_type": "markdown",
   "metadata": {},
   "source": [
    "#### <span style=\"color:blue\">2.2 En utilisant les fonctions \"list\" et \"range\""
   ]
  },
  {
   "cell_type": "code",
   "execution_count": 6,
   "metadata": {},
   "outputs": [
    {
     "data": {
      "text/plain": [
       "[0, 1, 2, 3]"
      ]
     },
     "execution_count": 6,
     "metadata": {},
     "output_type": "execute_result"
    }
   ],
   "source": [
    "liste6=list(range(4))\n",
    "liste6"
   ]
  },
  {
   "cell_type": "code",
   "execution_count": 10,
   "metadata": {},
   "outputs": [
    {
     "data": {
      "text/plain": [
       "[3, 4, 5]"
      ]
     },
     "execution_count": 10,
     "metadata": {},
     "output_type": "execute_result"
    }
   ],
   "source": [
    "liste7=list(range(3,6))\n",
    "liste7"
   ]
  },
  {
   "cell_type": "code",
   "execution_count": 11,
   "metadata": {},
   "outputs": [
    {
     "data": {
      "text/plain": [
       "[3, 5, 7, 9, 11]"
      ]
     },
     "execution_count": 11,
     "metadata": {},
     "output_type": "execute_result"
    }
   ],
   "source": [
    "liste8=list(range(3,12,2))\n",
    "liste8"
   ]
  },
  {
   "cell_type": "markdown",
   "metadata": {},
   "source": [
    "\n",
    "#### <span style=\"color:blue\">2.3 Avec une formule dans une boucle &laquo;for&raquo; </span> \n",
    "   \n",
    "####  <u>Exercice 2.3.1</u>  : \n",
    "\n",
    "Créer avec une boucle &laquo;for&raquo; la liste &laquo;pairs&raquo; constituée des 10 premiers nombres pairs. \n",
    "\n",
    "Aide : on commencera par initialiser &laquo;pairs&raquo; avec des 0."
   ]
  },
  {
   "cell_type": "code",
   "execution_count": 15,
   "metadata": {},
   "outputs": [
    {
     "data": {
      "text/plain": [
       "[0, 2, 4, 6, 8, 10, 12, 14, 16, 18]"
      ]
     },
     "execution_count": 15,
     "metadata": {},
     "output_type": "execute_result"
    }
   ],
   "source": [
    "pairs = [0]*10\n",
    "for i in range(len(pairs)):\n",
    "    pairs[i] = 2*i\n",
    "pairs"
   ]
  },
  {
   "cell_type": "markdown",
   "metadata": {},
   "source": [
    "####  <u>Exercice 2.3.2</u>  : \n",
    "\n",
    "Créer la liste &laquo;carrés&raquo; constituée des carrés des nombres entiers naturels de 0 à 15. "
   ]
  },
  {
   "cell_type": "markdown",
   "metadata": {},
   "source": [
    "#### <span style=\"color:blue\">2.4 Par &laquo;compréhension&raquo;</span> "
   ]
  },
  {
   "cell_type": "markdown",
   "metadata": {},
   "source": [
    "Python est un langage étudié pour aller toujours vers plus de simplifications. Il offre de nombreux raccourcis de langage qui permettent d'être plus efficace.\n",
    "\n",
    "Ainsi, par la technique dite de &laquo;compréhension de liste&raquo; on peut remplacer avantageusement le code de l'exercice 2.3.1 par la seule ligne de commande ci-dessous : "
   ]
  },
  {
   "cell_type": "code",
   "execution_count": null,
   "metadata": {},
   "outputs": [],
   "source": [
    "[2*i for i in range(10)]"
   ]
  },
  {
   "cell_type": "markdown",
   "metadata": {},
   "source": [
    "####  <u>Exercice 2.4.1</u>  : \n",
    "\n",
    "Donner de même une réponse à l'exercice 2.3.2 en une seule ligne de commande. \n"
   ]
  },
  {
   "cell_type": "markdown",
   "metadata": {},
   "source": [
    "####  <u>Exercice 2.4.2</u>  :  \n",
    "\n",
    "Par la méthode de compréhension de liste, construire la liste liste4."
   ]
  },
  {
   "cell_type": "markdown",
   "metadata": {},
   "source": [
    "####  <u>Remarques</u>  :"
   ]
  },
  {
   "cell_type": "markdown",
   "metadata": {},
   "source": [
    "La commande &laquo;range&raquo; génère ce qu'on appelle un &laquo;itérable&raquo;.\n",
    "\n",
    "En Python, comme on l'a vu au précédent notebook, une chaîne de caractères est également un itérable. On peut donc contruire une liste par compréhension en itérant sur les caractères de cette chaine comme le montre l'exemple qui suit."
   ]
  },
  {
   "cell_type": "code",
   "execution_count": null,
   "metadata": {},
   "outputs": [],
   "source": [
    "[truc for truc in \"J'épelle ton nom !\"]"
   ]
  },
  {
   "cell_type": "code",
   "execution_count": null,
   "metadata": {},
   "outputs": [],
   "source": [
    "pnsi2=[\"angélique\", \"elijah\", \"theo\", \"julien\", \"adrien\", \"alexandre\", \"maxime\", \"ethan\", \"ines\", \"lena\", \"mohamed\", \"joris\", \"wahaab\", \"valentin\", \"nils\", \"damien\", \"lucas\", \"victor\"]"
   ]
  },
  {
   "cell_type": "code",
   "execution_count": null,
   "metadata": {},
   "outputs": [],
   "source": [
    "type(pnsi2[0])"
   ]
  },
  {
   "cell_type": "code",
   "execution_count": null,
   "metadata": {},
   "outputs": [],
   "source": [
    "[lettre for lettre in pnsi2[0]]"
   ]
  },
  {
   "cell_type": "markdown",
   "metadata": {},
   "source": [
    "Une liste est également un itérable...on peut donc itérer sur la liste nsi1 :"
   ]
  },
  {
   "cell_type": "code",
   "execution_count": null,
   "metadata": {},
   "outputs": [],
   "source": [
    "[p for p in pnsi2 if p[0]=='j']"
   ]
  },
  {
   "cell_type": "markdown",
   "metadata": {},
   "source": [
    "####  <u>Exercice 2.4.3</u>  :  \n",
    "\n",
    "Par la méthode de compréhension de liste, construire la liste des prénoms de nsi avec une majuscule sur la première lettre."
   ]
  },
  {
   "cell_type": "code",
   "execution_count": null,
   "metadata": {},
   "outputs": [],
   "source": [
    "help(str.capitalize)"
   ]
  },
  {
   "cell_type": "markdown",
   "metadata": {},
   "source": [
    "####  <u>Exercice 2.4.4</u>  :  \n",
    "\n",
    "Par la méthode de compréhension de liste, construire la liste des prénoms de nsi1 de 5 lettres ou moins."
   ]
  },
  {
   "cell_type": "code",
   "execution_count": null,
   "metadata": {},
   "outputs": [],
   "source": [
    "\n"
   ]
  }
 ],
 "metadata": {
  "kernelspec": {
   "display_name": "Python 3",
   "language": "python",
   "name": "python3"
  },
  "language_info": {
   "codemirror_mode": {
    "name": "ipython",
    "version": 3
   },
   "file_extension": ".py",
   "mimetype": "text/x-python",
   "name": "python",
   "nbconvert_exporter": "python",
   "pygments_lexer": "ipython3",
   "version": "3.7.3"
  }
 },
 "nbformat": 4,
 "nbformat_minor": 2
}
