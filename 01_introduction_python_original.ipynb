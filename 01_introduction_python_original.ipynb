{
 "cells": [
  {
   "cell_type": "markdown",
   "metadata": {
    "collapsed": true
   },
   "source": [
    "# <div style=\"text-align:center;\"><span style=\"color:darkred\"><u> Rappel des notions de base en Python</u></span></div>"
   ]
  },
  {
   "cell_type": "markdown",
   "metadata": {},
   "source": [
    "#### Petits rappels sur l'utilisation du notebook\n",
    "\n",
    " * ctrl+entrée ou maj+entrée : exécuter une cellule\n",
    "\n",
    "En dehors du mode édition :\n",
    " * b ou a : créer une nouvelle cellule\n",
    " * c, x, v : copier, couper, coller une cellule entière\n",
    " * z : annuler la suppression d'une cellule\n",
    " * y,m : basculer d'une cellule de code à une cellule de markdown\n",
    " * entrée : éditer le contenu d'un cellule\n",
    " \n",
    "En mode édition : \n",
    " * ctrl+c, ctrl+x, ctrl+v : copier, couper, coller\n",
    " * ctrl+z : annuler la dernière action "
   ]
  },
  {
   "cell_type": "markdown",
   "metadata": {},
   "source": [
    "## <span style=\"color:blue\">Quelques opérateurs \"spéciaux\"</span>"
   ]
  },
  {
   "cell_type": "markdown",
   "metadata": {},
   "source": [
    "Les opérations classiques que vous connaissez déjà :\n",
    " * +, - : addition, soustration\n",
    " * *, / : multiplication, division\n",
    " \n",
    " Il est utile de découvrir celles qui suivent. "
   ]
  },
  {
   "cell_type": "markdown",
   "metadata": {},
   "source": [
    "#### <u>Exercice</u> :\n",
    "\n",
    "Exécuter les cellules suivantes et commenter les résultats lorsque vous pensez avoir compris le calcul réalisé (ne pas hésiter à créer d'autres exemples)."
   ]
  },
  {
   "cell_type": "code",
   "execution_count": null,
   "metadata": {},
   "outputs": [],
   "source": [
    "5**3"
   ]
  },
  {
   "cell_type": "code",
   "execution_count": null,
   "metadata": {},
   "outputs": [],
   "source": [
    "25//3"
   ]
  },
  {
   "cell_type": "code",
   "execution_count": null,
   "metadata": {},
   "outputs": [],
   "source": [
    "25%3"
   ]
  },
  {
   "cell_type": "markdown",
   "metadata": {},
   "source": [
    "## <span style=\"color:blue\">Variables et affectations</span>\n",
    "\n",
    "En programmation, une variable permet de conserver et retrouver une valeur numérique, une chaîne de caractère...tout type d'objet.\n",
    "\n",
    "En Python, on crée une variable grâce à une affectation. Dans l'exemple ci-dessous l'entier 5 est affecté à la variable a :"
   ]
  },
  {
   "cell_type": "code",
   "execution_count": null,
   "metadata": {},
   "outputs": [],
   "source": [
    "a = 2 + 3"
   ]
  },
  {
   "cell_type": "code",
   "execution_count": null,
   "metadata": {},
   "outputs": [],
   "source": [
    "type(a)"
   ]
  },
  {
   "cell_type": "markdown",
   "metadata": {},
   "source": [
    "<u>Remarques</u> :\n",
    "\n",
    " * Attention à ce que l'utilisation du symbole `=` soit bien comprise. Il ne s'agit pas d'une équation.\n",
    " * Dans une affectation, l'expression à droite du symbole d'affectation est d'abord évaluée puis son résultat est affecté à la variable définie à gauche. En algorithmique, on utilise souvent une flèche et le message est plus clair :<br>\n",
    "a &larr; 2+3\n",
    " * Bien qu'il n'y ait souvent aucune obligation technique, il existe des recommandations écrites par l'auteur du langage Python (Guido van Rossum) pour uniformiser le style. Par exemple, pour nommer une variable on utilise que  minuscules, pas d'espace (mais le caractère de soulignement : \"_\"), pas de caractères accentués."
   ]
  },
  {
   "cell_type": "markdown",
   "metadata": {},
   "source": [
    "## <span style=\"color:blue\">Entrées - Sorties</span>"
   ]
  },
  {
   "cell_type": "markdown",
   "metadata": {},
   "source": [
    "Voici ci-dessous une commande qui est à la fois une affectation et une commande d'entrée. La tester et en donner une analyse."
   ]
  },
  {
   "cell_type": "code",
   "execution_count": null,
   "metadata": {},
   "outputs": [],
   "source": [
    "prenom = input(\"Quel est votre prénom ? \")"
   ]
  },
  {
   "cell_type": "markdown",
   "metadata": {},
   "source": [
    "Et une commande de sortie qui va nous permettre de visualiser le contenu lié à la variable `prenom` :"
   ]
  },
  {
   "cell_type": "code",
   "execution_count": null,
   "metadata": {},
   "outputs": [],
   "source": [
    "print(prenom)"
   ]
  },
  {
   "cell_type": "markdown",
   "metadata": {},
   "source": [
    "#### <u>Exercice</u> :\n",
    "\n",
    "Commençons par nous faire \"remonter les bretelles\" par Python ! Ça arrivera souvent, autant se familiariser avec. \n",
    "\n",
    "Sauriez-vous expliquer le problème ?"
   ]
  },
  {
   "cell_type": "code",
   "execution_count": null,
   "metadata": {},
   "outputs": [],
   "source": [
    "n = input(\"entrez un nombre :\")"
   ]
  },
  {
   "cell_type": "code",
   "execution_count": null,
   "metadata": {},
   "outputs": [],
   "source": [
    "print(n)"
   ]
  },
  {
   "cell_type": "code",
   "execution_count": null,
   "metadata": {},
   "outputs": [],
   "source": [
    "a=n+10"
   ]
  },
  {
   "cell_type": "markdown",
   "metadata": {},
   "source": [
    "## <span style=\"color:blue\">Typage des données</span>"
   ]
  },
  {
   "cell_type": "markdown",
   "metadata": {},
   "source": [
    "Le typage des données est une nécessité dans tout langage de programmation. À chaque type de donnée est associé une structure d'enregistrement de cette donnée dans la mémoire (qui, on le rappelle, n'est au final qu'une suite de 0 et de 1).\n",
    "\n",
    "Dans certains langages de programmation il est obligatoire au moment de la création d'une variable de définir le type de données qui lui sera associé.<br>\n",
    "En Python, ce n'est pas nécessaire dans le code mais cependant, comme on a pu le constater avec l'exécution de la commande précédente, c'est obligatoire dans l'esprit de celui qui crée le code !"
   ]
  },
  {
   "cell_type": "markdown",
   "metadata": {},
   "source": [
    "Les types principaux que nous utiliserons cette année sont:\n",
    "* les entiers : type `int`;\n",
    "* les flottants (pour les nombres décimaux): type `float`;\n",
    "* les listes : type `list`;\n",
    "* les caractères : type `char`;\n",
    "* les chaines de caractères : type `str`;\n",
    "* les booléens (vrai ou faux) : type `bool`.\n",
    "\n",
    "Il est parfois possible/utile de convertir une donnée d'un type à un autre (on parle de **cast**).<br> Utilisons cette fonctionnalité pour corriger notre précédente erreur :\n"
   ]
  },
  {
   "cell_type": "code",
   "execution_count": null,
   "metadata": {},
   "outputs": [],
   "source": [
    "n = int(input(\"Entrer un nombre :\"))\n",
    "a=n+10\n",
    "print(a)"
   ]
  },
  {
   "cell_type": "markdown",
   "metadata": {},
   "source": [
    "## <span style=\"color:blue\">Exercices d'application</span>"
   ]
  },
  {
   "cell_type": "markdown",
   "metadata": {},
   "source": [
    "#### <u>Exercice 1</u> :\n",
    "\n",
    "Écrire dans une même cellule les lignes de commandes permettant de réaliser le cahier des charges suivant :\n",
    "\n",
    " <u>Entrée clavier</u> : un âge en nombre entier d'années (pas celui du prof pour éviter un dépassement de capacité ! <span style=\"font-size:20px\">&#129322;</span>),\n",
    "\n",
    " <u>Sortie écran</u> : le nombre de secondes qui se sont écoulées depuis votre naissance (on supposera que toutes les années font 365 jours).\n"
   ]
  },
  {
   "cell_type": "markdown",
   "metadata": {},
   "source": [
    "#### <u>Exercice 2</u> :\n",
    "\n",
    "Écrire dans une même cellule les lignes de commandes permettant de réaliser le cahier des charges suivant :\n",
    "\n",
    " <u>Entrée clavier</u> : un nombre de secondes (on saisira un nombre entier),\n",
    "\n",
    " <u>Sortie écran</u> : la conversion en heures, minutes, secondes du nombre saisi.\n"
   ]
  },
  {
   "cell_type": "markdown",
   "metadata": {},
   "source": [
    "## <span style=\"color:blue\">Instructions conditionnelles</span>"
   ]
  },
  {
   "cell_type": "markdown",
   "metadata": {},
   "source": [
    "Vous venez d'acquérir un \"robot\" (dans le langage Python on dira plutôt un module) spécialisé dans la génération de nombres aléatoires. \n",
    "\n",
    "Vous l'allumez :"
   ]
  },
  {
   "cell_type": "code",
   "execution_count": 3,
   "metadata": {},
   "outputs": [],
   "source": [
    "import random"
   ]
  },
  {
   "cell_type": "markdown",
   "metadata": {},
   "source": [
    "Puis vous l'utilisez :"
   ]
  },
  {
   "cell_type": "code",
   "execution_count": null,
   "metadata": {},
   "outputs": [],
   "source": [
    "nbre_secret=random.randint(1,20)"
   ]
  },
  {
   "cell_type": "markdown",
   "metadata": {},
   "source": [
    "Analyser intuitivement la commande précédente."
   ]
  },
  {
   "cell_type": "markdown",
   "metadata": {},
   "source": []
  },
  {
   "cell_type": "markdown",
   "metadata": {},
   "source": [
    "Votre défi est de créer un programme qui permet à l'utilisateur de tenter sa chance pour trouver le nombre \"secret\" généré par le robot. Bien évidemment (sinon ce serait trop facile :)) :\n",
    " * la première ligne de votre programme est imposée : `nbre_secret=random.randint(1,100)`\n",
    " * la commande `print(nbre_secret`) n'est pas disponible... \n"
   ]
  },
  {
   "cell_type": "markdown",
   "metadata": {},
   "source": [
    "#### <u>Exercice 1</u> : une première proposition pour les chanceux\n",
    "\n",
    "Écrire dans une même cellule les lignes de commandes permettant de réaliser le cahier des charges suivant :\n",
    "\n",
    " <u>Entrée clavier</u> : un nombre,\n",
    "\n",
    " <u>Sortie écran</u> : une information indiquant si la variable `nbre_secret` est égal au nombre saisi."
   ]
  },
  {
   "cell_type": "code",
   "execution_count": 4,
   "metadata": {},
   "outputs": [],
   "source": [
    "nbre_secret=random.randint(1,20)\n",
    "#à compléter"
   ]
  },
  {
   "cell_type": "markdown",
   "metadata": {},
   "source": [
    "#### <u>Exercice 2</u> : on se trompe souvent mais de combien ?\n",
    "\n",
    "Écrire dans une même cellule les lignes de commandes permettant de réaliser le cahier des charges suivant :\n",
    "\n",
    " <u>Entrée clavier</u> : un nombre,\n",
    "\n",
    " <u>Sortie écran</u> : une information indiquant si la variable `nbre_secret` est égal au nombre saisi et sinon, l'erreur commise (un nombre positif ou négatif)."
   ]
  },
  {
   "cell_type": "code",
   "execution_count": 5,
   "metadata": {},
   "outputs": [],
   "source": [
    "nbre_secret=random.randint(1,20)\n",
    "#à compléter"
   ]
  },
  {
   "cell_type": "markdown",
   "metadata": {},
   "source": [
    "#### <u>Exercice 3</u> : une petite récompense quand même ?\n",
    "\n",
    "On décide que :\n",
    " * si l'utilisateur trouve le nombre secret, il gagne 20 points,\n",
    " * si l'écart entre la proposition et le nombre secret est de 1, il gagne 10 points,\n",
    " * si l'écart entre la proposition et le nombre secret est entre 2 et 5, il gagne 5 points\n",
    " * dans tous les autres cas, il ne gagne aucun point.\n",
    " \n",
    "Écrire dans une même cellule les lignes de commandes permettant de réaliser le cahier des charges suivant :\n",
    "\n",
    " <u>Entrée clavier</u> : un nombre,\n",
    "\n",
    " <u>Sortie écran</u> : le gain de l'utilisateur."
   ]
  },
  {
   "cell_type": "code",
   "execution_count": 6,
   "metadata": {},
   "outputs": [],
   "source": [
    "nbre_secret=random.randint(1,20)\n",
    "#à compléter"
   ]
  }
 ],
 "metadata": {
  "kernelspec": {
   "display_name": "Python 3",
   "language": "python",
   "name": "python3"
  },
  "language_info": {
   "codemirror_mode": {
    "name": "ipython",
    "version": 3
   },
   "file_extension": ".py",
   "mimetype": "text/x-python",
   "name": "python",
   "nbconvert_exporter": "python",
   "pygments_lexer": "ipython3",
   "version": "3.7.4"
  }
 },
 "nbformat": 4,
 "nbformat_minor": 1
}
